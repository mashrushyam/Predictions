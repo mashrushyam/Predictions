{
 "cells": [
  {
   "cell_type": "markdown",
   "id": "dbda3fde",
   "metadata": {},
   "source": [
    "# Project - Prediction (Live Prediction)"
   ]
  },
  {
   "cell_type": "markdown",
   "id": "44b891db",
   "metadata": {},
   "source": [
    "**Importing Libraries**"
   ]
  },
  {
   "cell_type": "code",
   "execution_count": 1,
   "id": "552b610c",
   "metadata": {},
   "outputs": [],
   "source": [
    "import pandas as pd\n",
    "import numpy as np"
   ]
  },
  {
   "cell_type": "markdown",
   "id": "3f3d0b16",
   "metadata": {},
   "source": [
    "**Importing Datasets**"
   ]
  },
  {
   "cell_type": "code",
   "execution_count": 2,
   "id": "9a006716",
   "metadata": {},
   "outputs": [
    {
     "ename": "FileNotFoundError",
     "evalue": "[Errno 2] No such file or directory: 'IPL_Final_Data.csv'",
     "output_type": "error",
     "traceback": [
      "\u001b[1;31m---------------------------------------------------------------------------\u001b[0m",
      "\u001b[1;31mFileNotFoundError\u001b[0m                         Traceback (most recent call last)",
      "Cell \u001b[1;32mIn[2], line 1\u001b[0m\n\u001b[1;32m----> 1\u001b[0m file1 \u001b[38;5;241m=\u001b[39m pd\u001b[38;5;241m.\u001b[39mread_csv(\u001b[38;5;124m\"\u001b[39m\u001b[38;5;124mIPL_Final_Data.csv\u001b[39m\u001b[38;5;124m\"\u001b[39m)\n\u001b[0;32m      2\u001b[0m file2 \u001b[38;5;241m=\u001b[39m pd\u001b[38;5;241m.\u001b[39mread_csv(\u001b[38;5;124m\"\u001b[39m\u001b[38;5;124mIPL_Ball_By_Ball_Updated.csv\u001b[39m\u001b[38;5;124m\"\u001b[39m)\n",
      "File \u001b[1;32m~\\anaconda3\\Lib\\site-packages\\pandas\\io\\parsers\\readers.py:912\u001b[0m, in \u001b[0;36mread_csv\u001b[1;34m(filepath_or_buffer, sep, delimiter, header, names, index_col, usecols, dtype, engine, converters, true_values, false_values, skipinitialspace, skiprows, skipfooter, nrows, na_values, keep_default_na, na_filter, verbose, skip_blank_lines, parse_dates, infer_datetime_format, keep_date_col, date_parser, date_format, dayfirst, cache_dates, iterator, chunksize, compression, thousands, decimal, lineterminator, quotechar, quoting, doublequote, escapechar, comment, encoding, encoding_errors, dialect, on_bad_lines, delim_whitespace, low_memory, memory_map, float_precision, storage_options, dtype_backend)\u001b[0m\n\u001b[0;32m    899\u001b[0m kwds_defaults \u001b[38;5;241m=\u001b[39m _refine_defaults_read(\n\u001b[0;32m    900\u001b[0m     dialect,\n\u001b[0;32m    901\u001b[0m     delimiter,\n\u001b[1;32m   (...)\u001b[0m\n\u001b[0;32m    908\u001b[0m     dtype_backend\u001b[38;5;241m=\u001b[39mdtype_backend,\n\u001b[0;32m    909\u001b[0m )\n\u001b[0;32m    910\u001b[0m kwds\u001b[38;5;241m.\u001b[39mupdate(kwds_defaults)\n\u001b[1;32m--> 912\u001b[0m \u001b[38;5;28;01mreturn\u001b[39;00m _read(filepath_or_buffer, kwds)\n",
      "File \u001b[1;32m~\\anaconda3\\Lib\\site-packages\\pandas\\io\\parsers\\readers.py:577\u001b[0m, in \u001b[0;36m_read\u001b[1;34m(filepath_or_buffer, kwds)\u001b[0m\n\u001b[0;32m    574\u001b[0m _validate_names(kwds\u001b[38;5;241m.\u001b[39mget(\u001b[38;5;124m\"\u001b[39m\u001b[38;5;124mnames\u001b[39m\u001b[38;5;124m\"\u001b[39m, \u001b[38;5;28;01mNone\u001b[39;00m))\n\u001b[0;32m    576\u001b[0m \u001b[38;5;66;03m# Create the parser.\u001b[39;00m\n\u001b[1;32m--> 577\u001b[0m parser \u001b[38;5;241m=\u001b[39m TextFileReader(filepath_or_buffer, \u001b[38;5;241m*\u001b[39m\u001b[38;5;241m*\u001b[39mkwds)\n\u001b[0;32m    579\u001b[0m \u001b[38;5;28;01mif\u001b[39;00m chunksize \u001b[38;5;129;01mor\u001b[39;00m iterator:\n\u001b[0;32m    580\u001b[0m     \u001b[38;5;28;01mreturn\u001b[39;00m parser\n",
      "File \u001b[1;32m~\\anaconda3\\Lib\\site-packages\\pandas\\io\\parsers\\readers.py:1407\u001b[0m, in \u001b[0;36mTextFileReader.__init__\u001b[1;34m(self, f, engine, **kwds)\u001b[0m\n\u001b[0;32m   1404\u001b[0m     \u001b[38;5;28mself\u001b[39m\u001b[38;5;241m.\u001b[39moptions[\u001b[38;5;124m\"\u001b[39m\u001b[38;5;124mhas_index_names\u001b[39m\u001b[38;5;124m\"\u001b[39m] \u001b[38;5;241m=\u001b[39m kwds[\u001b[38;5;124m\"\u001b[39m\u001b[38;5;124mhas_index_names\u001b[39m\u001b[38;5;124m\"\u001b[39m]\n\u001b[0;32m   1406\u001b[0m \u001b[38;5;28mself\u001b[39m\u001b[38;5;241m.\u001b[39mhandles: IOHandles \u001b[38;5;241m|\u001b[39m \u001b[38;5;28;01mNone\u001b[39;00m \u001b[38;5;241m=\u001b[39m \u001b[38;5;28;01mNone\u001b[39;00m\n\u001b[1;32m-> 1407\u001b[0m \u001b[38;5;28mself\u001b[39m\u001b[38;5;241m.\u001b[39m_engine \u001b[38;5;241m=\u001b[39m \u001b[38;5;28mself\u001b[39m\u001b[38;5;241m.\u001b[39m_make_engine(f, \u001b[38;5;28mself\u001b[39m\u001b[38;5;241m.\u001b[39mengine)\n",
      "File \u001b[1;32m~\\anaconda3\\Lib\\site-packages\\pandas\\io\\parsers\\readers.py:1661\u001b[0m, in \u001b[0;36mTextFileReader._make_engine\u001b[1;34m(self, f, engine)\u001b[0m\n\u001b[0;32m   1659\u001b[0m     \u001b[38;5;28;01mif\u001b[39;00m \u001b[38;5;124m\"\u001b[39m\u001b[38;5;124mb\u001b[39m\u001b[38;5;124m\"\u001b[39m \u001b[38;5;129;01mnot\u001b[39;00m \u001b[38;5;129;01min\u001b[39;00m mode:\n\u001b[0;32m   1660\u001b[0m         mode \u001b[38;5;241m+\u001b[39m\u001b[38;5;241m=\u001b[39m \u001b[38;5;124m\"\u001b[39m\u001b[38;5;124mb\u001b[39m\u001b[38;5;124m\"\u001b[39m\n\u001b[1;32m-> 1661\u001b[0m \u001b[38;5;28mself\u001b[39m\u001b[38;5;241m.\u001b[39mhandles \u001b[38;5;241m=\u001b[39m get_handle(\n\u001b[0;32m   1662\u001b[0m     f,\n\u001b[0;32m   1663\u001b[0m     mode,\n\u001b[0;32m   1664\u001b[0m     encoding\u001b[38;5;241m=\u001b[39m\u001b[38;5;28mself\u001b[39m\u001b[38;5;241m.\u001b[39moptions\u001b[38;5;241m.\u001b[39mget(\u001b[38;5;124m\"\u001b[39m\u001b[38;5;124mencoding\u001b[39m\u001b[38;5;124m\"\u001b[39m, \u001b[38;5;28;01mNone\u001b[39;00m),\n\u001b[0;32m   1665\u001b[0m     compression\u001b[38;5;241m=\u001b[39m\u001b[38;5;28mself\u001b[39m\u001b[38;5;241m.\u001b[39moptions\u001b[38;5;241m.\u001b[39mget(\u001b[38;5;124m\"\u001b[39m\u001b[38;5;124mcompression\u001b[39m\u001b[38;5;124m\"\u001b[39m, \u001b[38;5;28;01mNone\u001b[39;00m),\n\u001b[0;32m   1666\u001b[0m     memory_map\u001b[38;5;241m=\u001b[39m\u001b[38;5;28mself\u001b[39m\u001b[38;5;241m.\u001b[39moptions\u001b[38;5;241m.\u001b[39mget(\u001b[38;5;124m\"\u001b[39m\u001b[38;5;124mmemory_map\u001b[39m\u001b[38;5;124m\"\u001b[39m, \u001b[38;5;28;01mFalse\u001b[39;00m),\n\u001b[0;32m   1667\u001b[0m     is_text\u001b[38;5;241m=\u001b[39mis_text,\n\u001b[0;32m   1668\u001b[0m     errors\u001b[38;5;241m=\u001b[39m\u001b[38;5;28mself\u001b[39m\u001b[38;5;241m.\u001b[39moptions\u001b[38;5;241m.\u001b[39mget(\u001b[38;5;124m\"\u001b[39m\u001b[38;5;124mencoding_errors\u001b[39m\u001b[38;5;124m\"\u001b[39m, \u001b[38;5;124m\"\u001b[39m\u001b[38;5;124mstrict\u001b[39m\u001b[38;5;124m\"\u001b[39m),\n\u001b[0;32m   1669\u001b[0m     storage_options\u001b[38;5;241m=\u001b[39m\u001b[38;5;28mself\u001b[39m\u001b[38;5;241m.\u001b[39moptions\u001b[38;5;241m.\u001b[39mget(\u001b[38;5;124m\"\u001b[39m\u001b[38;5;124mstorage_options\u001b[39m\u001b[38;5;124m\"\u001b[39m, \u001b[38;5;28;01mNone\u001b[39;00m),\n\u001b[0;32m   1670\u001b[0m )\n\u001b[0;32m   1671\u001b[0m \u001b[38;5;28;01massert\u001b[39;00m \u001b[38;5;28mself\u001b[39m\u001b[38;5;241m.\u001b[39mhandles \u001b[38;5;129;01mis\u001b[39;00m \u001b[38;5;129;01mnot\u001b[39;00m \u001b[38;5;28;01mNone\u001b[39;00m\n\u001b[0;32m   1672\u001b[0m f \u001b[38;5;241m=\u001b[39m \u001b[38;5;28mself\u001b[39m\u001b[38;5;241m.\u001b[39mhandles\u001b[38;5;241m.\u001b[39mhandle\n",
      "File \u001b[1;32m~\\anaconda3\\Lib\\site-packages\\pandas\\io\\common.py:859\u001b[0m, in \u001b[0;36mget_handle\u001b[1;34m(path_or_buf, mode, encoding, compression, memory_map, is_text, errors, storage_options)\u001b[0m\n\u001b[0;32m    854\u001b[0m \u001b[38;5;28;01melif\u001b[39;00m \u001b[38;5;28misinstance\u001b[39m(handle, \u001b[38;5;28mstr\u001b[39m):\n\u001b[0;32m    855\u001b[0m     \u001b[38;5;66;03m# Check whether the filename is to be opened in binary mode.\u001b[39;00m\n\u001b[0;32m    856\u001b[0m     \u001b[38;5;66;03m# Binary mode does not support 'encoding' and 'newline'.\u001b[39;00m\n\u001b[0;32m    857\u001b[0m     \u001b[38;5;28;01mif\u001b[39;00m ioargs\u001b[38;5;241m.\u001b[39mencoding \u001b[38;5;129;01mand\u001b[39;00m \u001b[38;5;124m\"\u001b[39m\u001b[38;5;124mb\u001b[39m\u001b[38;5;124m\"\u001b[39m \u001b[38;5;129;01mnot\u001b[39;00m \u001b[38;5;129;01min\u001b[39;00m ioargs\u001b[38;5;241m.\u001b[39mmode:\n\u001b[0;32m    858\u001b[0m         \u001b[38;5;66;03m# Encoding\u001b[39;00m\n\u001b[1;32m--> 859\u001b[0m         handle \u001b[38;5;241m=\u001b[39m \u001b[38;5;28mopen\u001b[39m(\n\u001b[0;32m    860\u001b[0m             handle,\n\u001b[0;32m    861\u001b[0m             ioargs\u001b[38;5;241m.\u001b[39mmode,\n\u001b[0;32m    862\u001b[0m             encoding\u001b[38;5;241m=\u001b[39mioargs\u001b[38;5;241m.\u001b[39mencoding,\n\u001b[0;32m    863\u001b[0m             errors\u001b[38;5;241m=\u001b[39merrors,\n\u001b[0;32m    864\u001b[0m             newline\u001b[38;5;241m=\u001b[39m\u001b[38;5;124m\"\u001b[39m\u001b[38;5;124m\"\u001b[39m,\n\u001b[0;32m    865\u001b[0m         )\n\u001b[0;32m    866\u001b[0m     \u001b[38;5;28;01melse\u001b[39;00m:\n\u001b[0;32m    867\u001b[0m         \u001b[38;5;66;03m# Binary mode\u001b[39;00m\n\u001b[0;32m    868\u001b[0m         handle \u001b[38;5;241m=\u001b[39m \u001b[38;5;28mopen\u001b[39m(handle, ioargs\u001b[38;5;241m.\u001b[39mmode)\n",
      "\u001b[1;31mFileNotFoundError\u001b[0m: [Errno 2] No such file or directory: 'IPL_Final_Data.csv'"
     ]
    }
   ],
   "source": [
    "file1 = pd.read_csv(\"IPL_Final_Data.csv\")\n",
    "file2 = pd.read_csv(\"IPL_Ball_By_Ball_Updated.csv\")"
   ]
  },
  {
   "cell_type": "markdown",
   "id": "41e94d25",
   "metadata": {},
   "source": [
    "### Data Preprocessing"
   ]
  },
  {
   "cell_type": "code",
   "execution_count": null,
   "id": "186f57b0",
   "metadata": {},
   "outputs": [],
   "source": [
    "#Giving some common names to same names\n",
    "file2['BattingTeam'] = file2['BattingTeam'].str.replace('Delhi Daredevils','Delhi Capitals')\n",
    "file2['BattingTeam'] = file2['BattingTeam'].str.replace('Gujarat Lions','Gujarat Titans')\n",
    "file2['BattingTeam'] = file2['BattingTeam'].str.replace('Kings XI Punjab','Punjab Kings')\n",
    "file2['BattingTeam'] = file2['BattingTeam'].str.replace('Deccan Chargers','Sunrisers Hyderabad')\n",
    "file2.loc[file2['BattingTeam'].isin(['Rising Pune Supergiant','Rising Pune Supergiants']),'BattingTeam'] = 'Rising Pune Supergiants'"
   ]
  },
  {
   "cell_type": "code",
   "execution_count": null,
   "id": "dade62fa",
   "metadata": {},
   "outputs": [],
   "source": [
    "#Giving some common names to same names\n",
    "file2['BowlingTeam'] = file2['BowlingTeam'].str.replace('Delhi Daredevils','Delhi Capitals')\n",
    "file2['BowlingTeam'] = file2['BowlingTeam'].str.replace('Gujarat Lions','Gujarat Titans')\n",
    "file2['BowlingTeam'] = file2['BowlingTeam'].str.replace('Kings XI Punjab','Punjab Kings')\n",
    "file2['BowlingTeam'] = file2['BowlingTeam'].str.replace('Deccan Chargers','Sunrisers Hyderabad')\n",
    "file2.loc[file2['BowlingTeam'].isin(['Rising Pune Supergiant','Rising Pune Supergiants']),'BowlingTeam'] = 'Rising Pune Supergiants'"
   ]
  },
  {
   "cell_type": "code",
   "execution_count": null,
   "id": "7117cc80",
   "metadata": {},
   "outputs": [],
   "source": [
    "total_score = file2.groupby(['ID','innings']).sum()['total_run'].reset_index()"
   ]
  },
  {
   "cell_type": "code",
   "execution_count": null,
   "id": "9637c988",
   "metadata": {},
   "outputs": [],
   "source": [
    "total_score_first = total_score[total_score['innings']==1]"
   ]
  },
  {
   "cell_type": "code",
   "execution_count": null,
   "id": "3978129e",
   "metadata": {},
   "outputs": [],
   "source": [
    "match = pd.merge(file1,total_score_first[['ID','total_run']],left_on='ID',right_on='ID',how='left')\n",
    "match.rename({'total_run':'FirstInningsRuns'},axis=1,inplace=True)\n",
    "match.columns"
   ]
  },
  {
   "cell_type": "code",
   "execution_count": null,
   "id": "1516d826",
   "metadata": {},
   "outputs": [],
   "source": [
    "match = match[['ID', 'Team1', 'Team2', 'City', 'TossWinner','TossDecision',\n",
    "       'WinningTeam','HomeGround','FirstInningsRuns']]"
   ]
  },
  {
   "cell_type": "code",
   "execution_count": null,
   "id": "b1f7e384",
   "metadata": {},
   "outputs": [],
   "source": [
    "delivery = match.merge(file2,on='ID')"
   ]
  },
  {
   "cell_type": "code",
   "execution_count": null,
   "id": "0409bc8f",
   "metadata": {},
   "outputs": [],
   "source": [
    "def replace_homeground(row):\n",
    "    if row['HomeGround'] == 'Team1':\n",
    "        return row['Team1']\n",
    "    elif row['HomeGround'] == 'Team2':\n",
    "        return row['Team2']\n",
    "    else:\n",
    "        return row['HomeGround']"
   ]
  },
  {
   "cell_type": "code",
   "execution_count": null,
   "id": "64a6f502",
   "metadata": {},
   "outputs": [],
   "source": [
    "delivery['HomeGround'] = delivery.apply(replace_homeground, axis=1)\n",
    "delivery"
   ]
  },
  {
   "cell_type": "code",
   "execution_count": null,
   "id": "da777464",
   "metadata": {},
   "outputs": [],
   "source": [
    "delivery_second = delivery[delivery['innings']==2]\n",
    "delivery_second"
   ]
  },
  {
   "cell_type": "code",
   "execution_count": null,
   "id": "0abdbce4",
   "metadata": {},
   "outputs": [],
   "source": [
    "delivery_second['CurrentScore'] = delivery_second.groupby('ID')['total_run'].cumsum()\n",
    "delivery_second"
   ]
  },
  {
   "cell_type": "code",
   "execution_count": null,
   "id": "50dc42a5",
   "metadata": {},
   "outputs": [],
   "source": [
    "delivery_second['RunsLeft'] = delivery_second['FirstInningsRuns'] + 1 - delivery_second['CurrentScore'] \n",
    "delivery_second"
   ]
  },
  {
   "cell_type": "code",
   "execution_count": null,
   "id": "d29d43d2",
   "metadata": {},
   "outputs": [],
   "source": [
    "delivery_second['BallsLeft'] = 120 - (delivery_second['overs']*6 + delivery_second['ballnumber'])\n",
    "delivery_second"
   ]
  },
  {
   "cell_type": "code",
   "execution_count": null,
   "id": "4700aad7",
   "metadata": {},
   "outputs": [],
   "source": [
    "delivery_second['isWicketDelivery'] = delivery_second['isWicketDelivery'].astype(int)\n",
    "wickets = delivery_second.groupby('ID')['isWicketDelivery'].cumsum().values\n",
    "delivery_second['WicketsLeft'] = 10 - wickets\n",
    "delivery_second"
   ]
  },
  {
   "cell_type": "code",
   "execution_count": null,
   "id": "39d4ab46",
   "metadata": {},
   "outputs": [],
   "source": [
    "delivery_second['CurrentRunRate'] = (delivery_second['CurrentScore']*6)/(120-delivery_second['BallsLeft'])\n",
    "delivery_second"
   ]
  },
  {
   "cell_type": "code",
   "execution_count": null,
   "id": "7e74d6e0",
   "metadata": {},
   "outputs": [],
   "source": [
    "delivery_second['RequiredRunRate'] = (delivery_second['RunsLeft']*6)/delivery_second['BallsLeft']\n",
    "delivery_second"
   ]
  },
  {
   "cell_type": "code",
   "execution_count": null,
   "id": "9749b5db",
   "metadata": {},
   "outputs": [],
   "source": [
    "def result(row):\n",
    "    return 1 if row['BattingTeam'] == row['WinningTeam'] else 0"
   ]
  },
  {
   "cell_type": "code",
   "execution_count": null,
   "id": "c71a85e7",
   "metadata": {},
   "outputs": [],
   "source": [
    "delivery_second['Result'] = delivery_second.apply(result,axis=1)\n",
    "delivery_second"
   ]
  },
  {
   "cell_type": "code",
   "execution_count": null,
   "id": "4a3504c5",
   "metadata": {},
   "outputs": [],
   "source": [
    "delivery_second.columns"
   ]
  },
  {
   "cell_type": "code",
   "execution_count": null,
   "id": "e2f88e24",
   "metadata": {},
   "outputs": [],
   "source": [
    "final_second = delivery_second[['City','HomeGround','BattingTeam','BowlingTeam','FirstInningsRuns', 'CurrentScore', 'RunsLeft',\n",
    "       'BallsLeft', 'WicketsLeft', 'CurrentRunRate',\n",
    "       'RequiredRunRate', 'Result']]\n",
    "final_second"
   ]
  },
  {
   "cell_type": "code",
   "execution_count": null,
   "id": "2f068681",
   "metadata": {},
   "outputs": [],
   "source": [
    "def correct_homeground(row):\n",
    "    if row['HomeGround'] == row['BattingTeam']:\n",
    "        return 'Batting'\n",
    "    elif row['HomeGround'] == row['BowlingTeam']:\n",
    "        return 'Bowling'\n",
    "    else:\n",
    "        return 'Neutral'"
   ]
  },
  {
   "cell_type": "code",
   "execution_count": null,
   "id": "a24fba67",
   "metadata": {
    "scrolled": true
   },
   "outputs": [],
   "source": [
    "final_second['HomeGround'] = final_second.apply(correct_homeground, axis=1)\n",
    "final_second"
   ]
  },
  {
   "cell_type": "code",
   "execution_count": null,
   "id": "cdb2c9dc",
   "metadata": {},
   "outputs": [],
   "source": [
    "final_second.replace([np.inf, -np.inf], np.nan, inplace=True)"
   ]
  },
  {
   "cell_type": "code",
   "execution_count": null,
   "id": "9c06ac43",
   "metadata": {},
   "outputs": [],
   "source": [
    "final_second.dropna(inplace=True)"
   ]
  },
  {
   "cell_type": "code",
   "execution_count": null,
   "id": "a71deb83",
   "metadata": {},
   "outputs": [],
   "source": [
    "columns = final_second.columns.tolist()\n",
    "if 'Result' in columns:\n",
    "    columns.remove('Result')\n",
    "columns"
   ]
  },
  {
   "cell_type": "markdown",
   "id": "9163994d",
   "metadata": {},
   "source": [
    "### Label Encoding"
   ]
  },
  {
   "cell_type": "code",
   "execution_count": null,
   "id": "6ddb5da7",
   "metadata": {},
   "outputs": [],
   "source": [
    "from sklearn.preprocessing import LabelEncoder\n",
    "\n",
    "label_encoder = LabelEncoder()\n",
    "\n",
    "encode_columns = ['City','BattingTeam','BowlingTeam','HomeGround']\n",
    "                  \n",
    "for column in encode_columns:\n",
    "                  final_second[column] = label_encoder.fit_transform(final_second[column])\n",
    "\n",
    "final_second"
   ]
  },
  {
   "cell_type": "markdown",
   "id": "ac33cc8b",
   "metadata": {},
   "source": [
    "### Train - Test Split"
   ]
  },
  {
   "cell_type": "code",
   "execution_count": null,
   "id": "eb46c027",
   "metadata": {},
   "outputs": [],
   "source": [
    "X = final_second.drop(columns=['Result'])\n",
    "y = final_second['Result']"
   ]
  },
  {
   "cell_type": "code",
   "execution_count": null,
   "id": "d093ad1e",
   "metadata": {},
   "outputs": [],
   "source": [
    " from sklearn.model_selection import train_test_split\n",
    " X_train, X_test, y_train, y_test = train_test_split(X, y, test_size=0.33,random_state=500)"
   ]
  },
  {
   "cell_type": "markdown",
   "id": "dc892913",
   "metadata": {},
   "source": [
    "### Model Building"
   ]
  },
  {
   "cell_type": "code",
   "execution_count": null,
   "id": "22209e6a",
   "metadata": {},
   "outputs": [],
   "source": [
    "from sklearn.linear_model import LogisticRegression\n",
    "from sklearn.ensemble import RandomForestClassifier\n",
    "from sklearn.tree import DecisionTreeClassifier\n",
    "from sklearn.svm import SVC\n",
    "from xgboost import XGBClassifier\n",
    "from sklearn.naive_bayes import GaussianNB\n",
    "from sklearn.neighbors import KNeighborsClassifier"
   ]
  },
  {
   "cell_type": "code",
   "execution_count": null,
   "id": "c8b9224c",
   "metadata": {},
   "outputs": [],
   "source": [
    "model = LogisticRegression()\n",
    "#model = RandomForestClassifier()\n",
    "#model = DecisionTreeClassifier(random_state=42)\n",
    "#model = SVC(kernel='linear', C=1)\n",
    "#model = XGBClassifier()\n",
    "#model = GaussianNB()\n",
    "#model = SVC(kernel='rbf', random_state=0)\n",
    "#model = KNeighborsClassifier(n_neighbors=5,metric='minkowski',p=2)"
   ]
  },
  {
   "cell_type": "markdown",
   "id": "2ab26568",
   "metadata": {},
   "source": [
    "### Model Fitting"
   ]
  },
  {
   "cell_type": "code",
   "execution_count": null,
   "id": "bd35b414",
   "metadata": {},
   "outputs": [],
   "source": [
    "model.fit(X_train,y_train)"
   ]
  },
  {
   "cell_type": "markdown",
   "id": "010c9b1d",
   "metadata": {},
   "source": [
    "### Prediction"
   ]
  },
  {
   "cell_type": "code",
   "execution_count": null,
   "id": "64a46913",
   "metadata": {},
   "outputs": [],
   "source": [
    "y_pred = model.predict(X_test)"
   ]
  },
  {
   "cell_type": "markdown",
   "id": "3a45ca7a",
   "metadata": {},
   "source": [
    "### Model Evaluation"
   ]
  },
  {
   "cell_type": "code",
   "execution_count": null,
   "id": "f935b93b",
   "metadata": {},
   "outputs": [],
   "source": [
    "from sklearn.metrics import accuracy_score, confusion_matrix, classification_report\n",
    "accuracy_score(y_test,y_pred)"
   ]
  },
  {
   "cell_type": "code",
   "execution_count": null,
   "id": "e793f9fa",
   "metadata": {},
   "outputs": [],
   "source": [
    "conf_matrix = confusion_matrix(y_test, y_pred)\n",
    "classification_rep = classification_report(y_test, y_pred)"
   ]
  },
  {
   "cell_type": "code",
   "execution_count": null,
   "id": "f51a9e6a",
   "metadata": {},
   "outputs": [],
   "source": [
    "print('Confusion Matrix:')\n",
    "print(conf_matrix)\n",
    "print('Classification Report:')\n",
    "print(classification_rep)"
   ]
  },
  {
   "cell_type": "markdown",
   "id": "6a71412a",
   "metadata": {},
   "source": [
    "### Store Model"
   ]
  },
  {
   "cell_type": "code",
   "execution_count": null,
   "id": "843bbb89",
   "metadata": {},
   "outputs": [],
   "source": [
    "import pickle\n",
    "pickle.dump(model,open('D:\\Shyam Mashru\\Projects Main\\Prediction\\pipe2.pkl','wb'))"
   ]
  }
 ],
 "metadata": {
  "kernelspec": {
   "display_name": "Python 3 (ipykernel)",
   "language": "python",
   "name": "python3"
  },
  "language_info": {
   "codemirror_mode": {
    "name": "ipython",
    "version": 3
   },
   "file_extension": ".py",
   "mimetype": "text/x-python",
   "name": "python",
   "nbconvert_exporter": "python",
   "pygments_lexer": "ipython3",
   "version": "3.11.5"
  }
 },
 "nbformat": 4,
 "nbformat_minor": 5
}
